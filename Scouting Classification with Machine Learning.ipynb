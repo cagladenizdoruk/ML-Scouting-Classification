{
 "cells": [
  {
   "cell_type": "markdown",
   "id": "cc319243",
   "metadata": {},
   "source": [
    "## Scouting Classification with Machine Learning"
   ]
  },
  {
   "cell_type": "markdown",
   "id": "65cc7ad3",
   "metadata": {},
   "source": [
    "### Business Problem "
   ]
  },
  {
   "cell_type": "markdown",
   "id": "04a74c4a",
   "metadata": {},
   "source": [
    "Predicting which class (average, highlighted) players are according to the scores given to the characteristics of the football players watched by the Scouts."
   ]
  },
  {
   "cell_type": "markdown",
   "id": "4d98ee01",
   "metadata": {},
   "source": [
    "### Dataset"
   ]
  },
  {
   "cell_type": "markdown",
   "id": "56c05e72",
   "metadata": {},
   "source": [
    "The data set consists of information from Scoutium, which includes the features and scores of the football players evaluated by the scouts according to the characteristics of the footballers observed in the matches."
   ]
  },
  {
   "cell_type": "markdown",
   "id": "9426b926",
   "metadata": {},
   "source": [
    "##### Variables"
   ]
  },
  {
   "cell_type": "markdown",
   "id": "0feaed14",
   "metadata": {},
   "source": [
    "###### scoutium_attributes.csv"
   ]
  },
  {
   "cell_type": "markdown",
   "id": "d1716a6f",
   "metadata": {},
   "source": [
    "task_response_id : The set of a scout's assessments of all players on a team's roster in a match\n",
    "    \n",
    "match_id : The id of the relevant match\n",
    "    \n",
    "evaluator_id : The id of the evaluator(scout)\n",
    "    \n",
    "player_id : The id of the relevant player\n",
    "    \n",
    "position_id : The id of the position played by the relevant player in that match  \n",
    "    \n",
    "1: Goalkeeper \n",
    "\n",
    "2: Stopper   \n",
    "\n",
    "3: Right Back   \n",
    "\n",
    "4: Left Back  \n",
    "\n",
    "5: Center Defensive Midfielder\n",
    "\n",
    "6: Center Midfielder\n",
    "\n",
    "7: Rightwinger\n",
    "\n",
    "8: Leftwinger\n",
    "\n",
    "9: Center Attacking Midfielder\n",
    "\n",
    "10: Forward\n",
    "    \n",
    "analysis_id : A set containing a scout's attribute evaluations of a player in a match\n",
    "    \n",
    "attribute_id : The id of each attribute the players were evaluated for.\n",
    "    \n",
    "attribute_value : Value (points) given by a scout to a player's attribute"
   ]
  },
  {
   "cell_type": "markdown",
   "id": "e103c9e1",
   "metadata": {},
   "source": [
    "###### scoutium_potential_labels.csv"
   ]
  },
  {
   "cell_type": "markdown",
   "id": "bd9c48de",
   "metadata": {},
   "source": [
    "task_response_id : The set of a scout's assessments of all players on a team's roster in a match\n",
    "\n",
    "match_id : The id of the relevant match\n",
    "\n",
    "evaluator_id : The id of the evaluator(scout)\n",
    "\n",
    "player_id : The id of the relevant player\n",
    "\n",
    "potential_label : Label indicating the final decision of a scout regarding a player in a match. (target variable)"
   ]
  },
  {
   "cell_type": "markdown",
   "id": "bfec5134",
   "metadata": {},
   "source": [
    "### Required Library and Functions"
   ]
  },
  {
   "cell_type": "code",
   "execution_count": 2,
   "id": "ba9b5808",
   "metadata": {},
   "outputs": [],
   "source": [
    "import pandas as pd\n",
    "pd.set_option('display.max_columns', None)\n",
    "from sklearn.model_selection import *\n",
    "from sklearn.preprocessing import LabelEncoder, StandardScaler\n",
    "from sklearn.model_selection import cross_val_predict\n",
    "import pandas as pd\n",
    "from lightgbm import LGBMClassifier\n",
    "from sklearn.ensemble import RandomForestClassifier, GradientBoostingClassifier, VotingClassifier, AdaBoostClassifier\n",
    "from sklearn.linear_model import LogisticRegression\n",
    "from sklearn.model_selection import cross_validate, GridSearchCV\n",
    "from sklearn.neighbors import KNeighborsClassifier\n",
    "from sklearn.preprocessing import StandardScaler\n",
    "from sklearn.svm import SVC\n",
    "from sklearn.tree import DecisionTreeClassifier\n",
    "from xgboost import XGBClassifier\n",
    "from catboost import CatBoostClassifier\n",
    "import seaborn as sns\n",
    "import matplotlib.pyplot as plt\n",
    "\n",
    "pd.set_option('display.max_columns', None)\n",
    "pd.set_option('display.max_rows', None)\n",
    "pd.set_option('display.width', None)\n",
    "pd.set_option('display.float_format', lambda x: '%.3f' % x)\n"
   ]
  },
  {
   "cell_type": "code",
   "execution_count": 3,
   "id": "c7365695",
   "metadata": {},
   "outputs": [],
   "source": [
    "df = pd.read_csv(\"/Users/cagladeniz/PycharmProjects/Miuul/Machine Learning/Dataset/scoutium_attributes.csv\", sep=\";\")\n"
   ]
  },
  {
   "cell_type": "code",
   "execution_count": 4,
   "id": "b64be686",
   "metadata": {},
   "outputs": [
    {
     "data": {
      "text/html": [
       "<div>\n",
       "<style scoped>\n",
       "    .dataframe tbody tr th:only-of-type {\n",
       "        vertical-align: middle;\n",
       "    }\n",
       "\n",
       "    .dataframe tbody tr th {\n",
       "        vertical-align: top;\n",
       "    }\n",
       "\n",
       "    .dataframe thead th {\n",
       "        text-align: right;\n",
       "    }\n",
       "</style>\n",
       "<table border=\"1\" class=\"dataframe\">\n",
       "  <thead>\n",
       "    <tr style=\"text-align: right;\">\n",
       "      <th></th>\n",
       "      <th>task_response_id</th>\n",
       "      <th>match_id</th>\n",
       "      <th>evaluator_id</th>\n",
       "      <th>player_id</th>\n",
       "      <th>position_id</th>\n",
       "      <th>analysis_id</th>\n",
       "      <th>attribute_id</th>\n",
       "      <th>attribute_value</th>\n",
       "    </tr>\n",
       "  </thead>\n",
       "  <tbody>\n",
       "    <tr>\n",
       "      <th>0</th>\n",
       "      <td>4915</td>\n",
       "      <td>62935</td>\n",
       "      <td>177676</td>\n",
       "      <td>1361061</td>\n",
       "      <td>2</td>\n",
       "      <td>12818495</td>\n",
       "      <td>4322</td>\n",
       "      <td>56.000</td>\n",
       "    </tr>\n",
       "    <tr>\n",
       "      <th>1</th>\n",
       "      <td>4915</td>\n",
       "      <td>62935</td>\n",
       "      <td>177676</td>\n",
       "      <td>1361061</td>\n",
       "      <td>2</td>\n",
       "      <td>12818495</td>\n",
       "      <td>4323</td>\n",
       "      <td>56.000</td>\n",
       "    </tr>\n",
       "    <tr>\n",
       "      <th>2</th>\n",
       "      <td>4915</td>\n",
       "      <td>62935</td>\n",
       "      <td>177676</td>\n",
       "      <td>1361061</td>\n",
       "      <td>2</td>\n",
       "      <td>12818495</td>\n",
       "      <td>4324</td>\n",
       "      <td>67.000</td>\n",
       "    </tr>\n",
       "    <tr>\n",
       "      <th>3</th>\n",
       "      <td>4915</td>\n",
       "      <td>62935</td>\n",
       "      <td>177676</td>\n",
       "      <td>1361061</td>\n",
       "      <td>2</td>\n",
       "      <td>12818495</td>\n",
       "      <td>4325</td>\n",
       "      <td>56.000</td>\n",
       "    </tr>\n",
       "    <tr>\n",
       "      <th>4</th>\n",
       "      <td>4915</td>\n",
       "      <td>62935</td>\n",
       "      <td>177676</td>\n",
       "      <td>1361061</td>\n",
       "      <td>2</td>\n",
       "      <td>12818495</td>\n",
       "      <td>4326</td>\n",
       "      <td>45.000</td>\n",
       "    </tr>\n",
       "  </tbody>\n",
       "</table>\n",
       "</div>"
      ],
      "text/plain": [
       "   task_response_id  match_id  evaluator_id  player_id  position_id  \\\n",
       "0              4915     62935        177676    1361061            2   \n",
       "1              4915     62935        177676    1361061            2   \n",
       "2              4915     62935        177676    1361061            2   \n",
       "3              4915     62935        177676    1361061            2   \n",
       "4              4915     62935        177676    1361061            2   \n",
       "\n",
       "   analysis_id  attribute_id  attribute_value  \n",
       "0     12818495          4322           56.000  \n",
       "1     12818495          4323           56.000  \n",
       "2     12818495          4324           67.000  \n",
       "3     12818495          4325           56.000  \n",
       "4     12818495          4326           45.000  "
      ]
     },
     "execution_count": 4,
     "metadata": {},
     "output_type": "execute_result"
    }
   ],
   "source": [
    "df.head()\n"
   ]
  },
  {
   "cell_type": "code",
   "execution_count": 5,
   "id": "33795407",
   "metadata": {},
   "outputs": [
    {
     "data": {
      "text/plain": [
       "(10730, 8)"
      ]
     },
     "execution_count": 5,
     "metadata": {},
     "output_type": "execute_result"
    }
   ],
   "source": [
    "df.shape\n"
   ]
  },
  {
   "cell_type": "code",
   "execution_count": 6,
   "id": "dc82c26f",
   "metadata": {},
   "outputs": [],
   "source": [
    "df2 = pd.read_csv(\"/Users/cagladeniz/PycharmProjects/Miuul/Machine Learning/Dataset/scoutium_potential_labels.csv\", sep=\";\")\n"
   ]
  },
  {
   "cell_type": "code",
   "execution_count": 7,
   "id": "17e5d6bd",
   "metadata": {},
   "outputs": [
    {
     "data": {
      "text/html": [
       "<div>\n",
       "<style scoped>\n",
       "    .dataframe tbody tr th:only-of-type {\n",
       "        vertical-align: middle;\n",
       "    }\n",
       "\n",
       "    .dataframe tbody tr th {\n",
       "        vertical-align: top;\n",
       "    }\n",
       "\n",
       "    .dataframe thead th {\n",
       "        text-align: right;\n",
       "    }\n",
       "</style>\n",
       "<table border=\"1\" class=\"dataframe\">\n",
       "  <thead>\n",
       "    <tr style=\"text-align: right;\">\n",
       "      <th></th>\n",
       "      <th>task_response_id</th>\n",
       "      <th>match_id</th>\n",
       "      <th>evaluator_id</th>\n",
       "      <th>player_id</th>\n",
       "      <th>potential_label</th>\n",
       "    </tr>\n",
       "  </thead>\n",
       "  <tbody>\n",
       "    <tr>\n",
       "      <th>0</th>\n",
       "      <td>4915</td>\n",
       "      <td>62935</td>\n",
       "      <td>177676</td>\n",
       "      <td>1361061</td>\n",
       "      <td>average</td>\n",
       "    </tr>\n",
       "    <tr>\n",
       "      <th>1</th>\n",
       "      <td>4915</td>\n",
       "      <td>62935</td>\n",
       "      <td>177676</td>\n",
       "      <td>1361626</td>\n",
       "      <td>highlighted</td>\n",
       "    </tr>\n",
       "    <tr>\n",
       "      <th>2</th>\n",
       "      <td>4915</td>\n",
       "      <td>62935</td>\n",
       "      <td>177676</td>\n",
       "      <td>1361858</td>\n",
       "      <td>average</td>\n",
       "    </tr>\n",
       "    <tr>\n",
       "      <th>3</th>\n",
       "      <td>4915</td>\n",
       "      <td>62935</td>\n",
       "      <td>177676</td>\n",
       "      <td>1362220</td>\n",
       "      <td>highlighted</td>\n",
       "    </tr>\n",
       "    <tr>\n",
       "      <th>4</th>\n",
       "      <td>4915</td>\n",
       "      <td>62935</td>\n",
       "      <td>177676</td>\n",
       "      <td>1364951</td>\n",
       "      <td>highlighted</td>\n",
       "    </tr>\n",
       "  </tbody>\n",
       "</table>\n",
       "</div>"
      ],
      "text/plain": [
       "   task_response_id  match_id  evaluator_id  player_id potential_label\n",
       "0              4915     62935        177676    1361061         average\n",
       "1              4915     62935        177676    1361626     highlighted\n",
       "2              4915     62935        177676    1361858         average\n",
       "3              4915     62935        177676    1362220     highlighted\n",
       "4              4915     62935        177676    1364951     highlighted"
      ]
     },
     "execution_count": 7,
     "metadata": {},
     "output_type": "execute_result"
    }
   ],
   "source": [
    "df2.head()\n"
   ]
  },
  {
   "cell_type": "code",
   "execution_count": 8,
   "id": "41631499",
   "metadata": {},
   "outputs": [
    {
     "data": {
      "text/plain": [
       "(322, 5)"
      ]
     },
     "execution_count": 8,
     "metadata": {},
     "output_type": "execute_result"
    }
   ],
   "source": [
    "df2.shape\n"
   ]
  },
  {
   "cell_type": "markdown",
   "id": "f2486f48",
   "metadata": {},
   "source": [
    "##### Combine the csv files we have read using the merge function. (\"task_response_id\", 'match_id', 'evaluator_id' \"player_id\" perform the merge operation over 4 variables.)"
   ]
  },
  {
   "cell_type": "code",
   "execution_count": 9,
   "id": "880427b7",
   "metadata": {},
   "outputs": [],
   "source": [
    "dff = pd.merge(df, df2, how='left', on=[\"task_response_id\", 'match_id', 'evaluator_id', \"player_id\"])\n"
   ]
  },
  {
   "cell_type": "code",
   "execution_count": 10,
   "id": "4ca636fe",
   "metadata": {},
   "outputs": [
    {
     "data": {
      "text/html": [
       "<div>\n",
       "<style scoped>\n",
       "    .dataframe tbody tr th:only-of-type {\n",
       "        vertical-align: middle;\n",
       "    }\n",
       "\n",
       "    .dataframe tbody tr th {\n",
       "        vertical-align: top;\n",
       "    }\n",
       "\n",
       "    .dataframe thead th {\n",
       "        text-align: right;\n",
       "    }\n",
       "</style>\n",
       "<table border=\"1\" class=\"dataframe\">\n",
       "  <thead>\n",
       "    <tr style=\"text-align: right;\">\n",
       "      <th></th>\n",
       "      <th>task_response_id</th>\n",
       "      <th>match_id</th>\n",
       "      <th>evaluator_id</th>\n",
       "      <th>player_id</th>\n",
       "      <th>position_id</th>\n",
       "      <th>analysis_id</th>\n",
       "      <th>attribute_id</th>\n",
       "      <th>attribute_value</th>\n",
       "      <th>potential_label</th>\n",
       "    </tr>\n",
       "  </thead>\n",
       "  <tbody>\n",
       "    <tr>\n",
       "      <th>0</th>\n",
       "      <td>4915</td>\n",
       "      <td>62935</td>\n",
       "      <td>177676</td>\n",
       "      <td>1361061</td>\n",
       "      <td>2</td>\n",
       "      <td>12818495</td>\n",
       "      <td>4322</td>\n",
       "      <td>56.000</td>\n",
       "      <td>average</td>\n",
       "    </tr>\n",
       "    <tr>\n",
       "      <th>1</th>\n",
       "      <td>4915</td>\n",
       "      <td>62935</td>\n",
       "      <td>177676</td>\n",
       "      <td>1361061</td>\n",
       "      <td>2</td>\n",
       "      <td>12818495</td>\n",
       "      <td>4323</td>\n",
       "      <td>56.000</td>\n",
       "      <td>average</td>\n",
       "    </tr>\n",
       "    <tr>\n",
       "      <th>2</th>\n",
       "      <td>4915</td>\n",
       "      <td>62935</td>\n",
       "      <td>177676</td>\n",
       "      <td>1361061</td>\n",
       "      <td>2</td>\n",
       "      <td>12818495</td>\n",
       "      <td>4324</td>\n",
       "      <td>67.000</td>\n",
       "      <td>average</td>\n",
       "    </tr>\n",
       "    <tr>\n",
       "      <th>3</th>\n",
       "      <td>4915</td>\n",
       "      <td>62935</td>\n",
       "      <td>177676</td>\n",
       "      <td>1361061</td>\n",
       "      <td>2</td>\n",
       "      <td>12818495</td>\n",
       "      <td>4325</td>\n",
       "      <td>56.000</td>\n",
       "      <td>average</td>\n",
       "    </tr>\n",
       "    <tr>\n",
       "      <th>4</th>\n",
       "      <td>4915</td>\n",
       "      <td>62935</td>\n",
       "      <td>177676</td>\n",
       "      <td>1361061</td>\n",
       "      <td>2</td>\n",
       "      <td>12818495</td>\n",
       "      <td>4326</td>\n",
       "      <td>45.000</td>\n",
       "      <td>average</td>\n",
       "    </tr>\n",
       "  </tbody>\n",
       "</table>\n",
       "</div>"
      ],
      "text/plain": [
       "   task_response_id  match_id  evaluator_id  player_id  position_id  \\\n",
       "0              4915     62935        177676    1361061            2   \n",
       "1              4915     62935        177676    1361061            2   \n",
       "2              4915     62935        177676    1361061            2   \n",
       "3              4915     62935        177676    1361061            2   \n",
       "4              4915     62935        177676    1361061            2   \n",
       "\n",
       "   analysis_id  attribute_id  attribute_value potential_label  \n",
       "0     12818495          4322           56.000         average  \n",
       "1     12818495          4323           56.000         average  \n",
       "2     12818495          4324           67.000         average  \n",
       "3     12818495          4325           56.000         average  \n",
       "4     12818495          4326           45.000         average  "
      ]
     },
     "execution_count": 10,
     "metadata": {},
     "output_type": "execute_result"
    }
   ],
   "source": [
    "dff.head()"
   ]
  },
  {
   "cell_type": "markdown",
   "id": "fd6f6345",
   "metadata": {},
   "source": [
    "##### Remove the Keeper (1) class in position_id from the dataset"
   ]
  },
  {
   "cell_type": "code",
   "execution_count": 16,
   "id": "1b6aaf60",
   "metadata": {},
   "outputs": [],
   "source": [
    "dff = dff[dff[\"position_id\"] != 1]"
   ]
  },
  {
   "cell_type": "markdown",
   "id": "92296edf",
   "metadata": {},
   "source": [
    "##### Remove the below_average class in the potential_label from the dataset (the below_average class makes up 1% of the entire dataset)"
   ]
  },
  {
   "cell_type": "code",
   "execution_count": 17,
   "id": "693a2ac9",
   "metadata": {},
   "outputs": [],
   "source": [
    "dff = dff[dff[\"potential_label\"] != \"below_average\"]"
   ]
  },
  {
   "cell_type": "markdown",
   "id": "956a4a8e",
   "metadata": {},
   "source": [
    "##### Create a table from the data set you created using the \"pivot_table\" function. Manipulate this pivot table with one player per row."
   ]
  },
  {
   "cell_type": "markdown",
   "id": "e54f29fa",
   "metadata": {},
   "source": [
    "##### Create the pivot table with \"player_id\", \"position_id\" and \"potential_label\" in the index, \"attribute_id\" in the columns and \"attribute_value\" in the values given by the scouts to the players."
   ]
  },
  {
   "cell_type": "code",
   "execution_count": 18,
   "id": "12e15e86",
   "metadata": {},
   "outputs": [],
   "source": [
    "pt = pd.pivot_table(dff, values=\"attribute_value\", columns=\"attribute_id\", index=[\"player_id\",\"position_id\",\"potential_label\"])\n"
   ]
  },
  {
   "cell_type": "markdown",
   "id": "225e9796",
   "metadata": {},
   "source": [
    "##### Get rid of the index error by using the \"reset_index\" function and convert the names of the \"attribute_id\" columns to strings."
   ]
  },
  {
   "cell_type": "code",
   "execution_count": 19,
   "id": "f37823b0",
   "metadata": {},
   "outputs": [],
   "source": [
    "pt = pt.reset_index(drop=False)\n"
   ]
  },
  {
   "cell_type": "code",
   "execution_count": 20,
   "id": "a6840043",
   "metadata": {},
   "outputs": [],
   "source": [
    "pt.columns = pt.columns.map(str)\n"
   ]
  },
  {
   "cell_type": "markdown",
   "id": "f6408cbb",
   "metadata": {},
   "source": [
    "##### Express the “potential_label” categories (average, highlighted) numerically using the Label Encoder function."
   ]
  },
  {
   "cell_type": "code",
   "execution_count": 21,
   "id": "37d8581d",
   "metadata": {},
   "outputs": [],
   "source": [
    "le = LabelEncoder()\n",
    "pt[\"potential_label\"] = le.fit_transform(pt[\"potential_label\"])"
   ]
  },
  {
   "cell_type": "markdown",
   "id": "adaaba9b",
   "metadata": {},
   "source": [
    "##### Assign the numeric variable columns to a list named “num_cols”."
   ]
  },
  {
   "cell_type": "code",
   "execution_count": 22,
   "id": "c1b54620",
   "metadata": {},
   "outputs": [],
   "source": [
    "num_cols = pt.columns[3:]\n"
   ]
  },
  {
   "cell_type": "markdown",
   "id": "86851363",
   "metadata": {},
   "source": [
    "##### Apply standardScaler to scale the data in all the \"num_cols\" variables you save."
   ]
  },
  {
   "cell_type": "code",
   "execution_count": 23,
   "id": "380f2812",
   "metadata": {},
   "outputs": [],
   "source": [
    "scaler = StandardScaler()\n",
    "pt[num_cols] = scaler.fit_transform(pt[num_cols])"
   ]
  },
  {
   "cell_type": "markdown",
   "id": "266cc125",
   "metadata": {},
   "source": [
    "### Modelling"
   ]
  },
  {
   "cell_type": "markdown",
   "id": "d00c2a21",
   "metadata": {},
   "source": [
    "Develop a machine learning model that predicts the potential tags of football players with minimum error from the data set we have."
   ]
  },
  {
   "cell_type": "code",
   "execution_count": 24,
   "id": "c7d2ae0e",
   "metadata": {},
   "outputs": [],
   "source": [
    "y = pt[\"potential_label\"]\n",
    "X = pt.drop([\"potential_label\", \"player_id\"], axis=1)"
   ]
  },
  {
   "cell_type": "code",
   "execution_count": 25,
   "id": "0767d140",
   "metadata": {},
   "outputs": [
    {
     "name": "stderr",
     "output_type": "stream",
     "text": [
      "/Users/cagladeniz/opt/anaconda3/lib/python3.9/site-packages/xgboost/sklearn.py:1395: UserWarning: `use_label_encoder` is deprecated in 1.7.0.\n",
      "  warnings.warn(\"`use_label_encoder` is deprecated in 1.7.0.\")\n"
     ]
    },
    {
     "name": "stdout",
     "output_type": "stream",
     "text": [
      "LR\n",
      "roc_auc score:0.8452886002886002\n",
      "f1 score:0.5684648684648684\n",
      "precision score:0.7738095238095238\n",
      "recall score:0.49000000000000005\n",
      "accuracy score:0.8525132275132276\n",
      "KNN\n",
      "roc_auc score:0.7256998556998557\n",
      "f1 score:0.4278571428571428\n",
      "precision score:0.775\n",
      "recall score:0.30999999999999994\n",
      "accuracy score:0.8449735449735449\n",
      "SVC\n"
     ]
    },
    {
     "name": "stderr",
     "output_type": "stream",
     "text": [
      "/Users/cagladeniz/opt/anaconda3/lib/python3.9/site-packages/sklearn/metrics/_classification.py:1248: UndefinedMetricWarning: Precision is ill-defined and being set to 0.0 due to no predicted samples. Use `zero_division` parameter to control this behavior.\n",
      "  _warn_prf(average, modifier, msg_start, len(result))\n",
      "/Users/cagladeniz/opt/anaconda3/lib/python3.9/site-packages/sklearn/metrics/_classification.py:1248: UndefinedMetricWarning: Precision is ill-defined and being set to 0.0 due to no predicted samples. Use `zero_division` parameter to control this behavior.\n",
      "  _warn_prf(average, modifier, msg_start, len(result))\n",
      "/Users/cagladeniz/opt/anaconda3/lib/python3.9/site-packages/sklearn/metrics/_classification.py:1248: UndefinedMetricWarning: Precision is ill-defined and being set to 0.0 due to no predicted samples. Use `zero_division` parameter to control this behavior.\n",
      "  _warn_prf(average, modifier, msg_start, len(result))\n",
      "/Users/cagladeniz/opt/anaconda3/lib/python3.9/site-packages/sklearn/metrics/_classification.py:1248: UndefinedMetricWarning: Precision is ill-defined and being set to 0.0 due to no predicted samples. Use `zero_division` parameter to control this behavior.\n",
      "  _warn_prf(average, modifier, msg_start, len(result))\n"
     ]
    },
    {
     "name": "stdout",
     "output_type": "stream",
     "text": [
      "roc_auc score:0.8439105339105339\n",
      "f1 score:0.03333333333333334\n",
      "precision score:0.1\n",
      "recall score:0.02\n",
      "accuracy score:0.797089947089947\n",
      "CART\n"
     ]
    },
    {
     "name": "stderr",
     "output_type": "stream",
     "text": [
      "/Users/cagladeniz/opt/anaconda3/lib/python3.9/site-packages/sklearn/metrics/_classification.py:1248: UndefinedMetricWarning: Precision is ill-defined and being set to 0.0 due to no predicted samples. Use `zero_division` parameter to control this behavior.\n",
      "  _warn_prf(average, modifier, msg_start, len(result))\n",
      "/Users/cagladeniz/opt/anaconda3/lib/python3.9/site-packages/sklearn/metrics/_classification.py:1248: UndefinedMetricWarning: Precision is ill-defined and being set to 0.0 due to no predicted samples. Use `zero_division` parameter to control this behavior.\n",
      "  _warn_prf(average, modifier, msg_start, len(result))\n",
      "/Users/cagladeniz/opt/anaconda3/lib/python3.9/site-packages/sklearn/metrics/_classification.py:1248: UndefinedMetricWarning: Precision is ill-defined and being set to 0.0 due to no predicted samples. Use `zero_division` parameter to control this behavior.\n",
      "  _warn_prf(average, modifier, msg_start, len(result))\n",
      "/Users/cagladeniz/opt/anaconda3/lib/python3.9/site-packages/sklearn/metrics/_classification.py:1248: UndefinedMetricWarning: Precision is ill-defined and being set to 0.0 due to no predicted samples. Use `zero_division` parameter to control this behavior.\n",
      "  _warn_prf(average, modifier, msg_start, len(result))\n",
      "/Users/cagladeniz/opt/anaconda3/lib/python3.9/site-packages/sklearn/metrics/_classification.py:1248: UndefinedMetricWarning: Precision is ill-defined and being set to 0.0 due to no predicted samples. Use `zero_division` parameter to control this behavior.\n",
      "  _warn_prf(average, modifier, msg_start, len(result))\n",
      "/Users/cagladeniz/opt/anaconda3/lib/python3.9/site-packages/sklearn/metrics/_classification.py:1248: UndefinedMetricWarning: Precision is ill-defined and being set to 0.0 due to no predicted samples. Use `zero_division` parameter to control this behavior.\n",
      "  _warn_prf(average, modifier, msg_start, len(result))\n"
     ]
    },
    {
     "name": "stdout",
     "output_type": "stream",
     "text": [
      "roc_auc score:0.7385497835497835\n",
      "f1 score:0.5421733821733822\n",
      "precision score:0.5839285714285715\n",
      "recall score:0.5733333333333333\n",
      "accuracy score:0.8265873015873015\n",
      "RF\n",
      "roc_auc score:0.8991883116883116\n",
      "f1 score:0.5637301587301586\n",
      "precision score:0.8833333333333334\n",
      "recall score:0.45666666666666667\n",
      "accuracy score:0.8746031746031747\n",
      "Adaboost\n",
      "roc_auc score:0.8647474747474746\n",
      "f1 score:0.5999062049062049\n",
      "precision score:0.7771428571428571\n",
      "recall score:0.56\n",
      "accuracy score:0.8560846560846562\n",
      "GBM\n",
      "roc_auc score:0.8821356421356421\n",
      "f1 score:0.5884920634920634\n",
      "precision score:0.8200000000000001\n",
      "recall score:0.5233333333333333\n",
      "accuracy score:0.8634920634920634\n",
      "XGBoost\n"
     ]
    },
    {
     "name": "stderr",
     "output_type": "stream",
     "text": [
      "/Users/cagladeniz/opt/anaconda3/lib/python3.9/site-packages/xgboost/sklearn.py:1395: UserWarning: `use_label_encoder` is deprecated in 1.7.0.\n",
      "  warnings.warn(\"`use_label_encoder` is deprecated in 1.7.0.\")\n",
      "/Users/cagladeniz/opt/anaconda3/lib/python3.9/site-packages/xgboost/sklearn.py:1395: UserWarning: `use_label_encoder` is deprecated in 1.7.0.\n",
      "  warnings.warn(\"`use_label_encoder` is deprecated in 1.7.0.\")\n",
      "/Users/cagladeniz/opt/anaconda3/lib/python3.9/site-packages/xgboost/sklearn.py:1395: UserWarning: `use_label_encoder` is deprecated in 1.7.0.\n",
      "  warnings.warn(\"`use_label_encoder` is deprecated in 1.7.0.\")\n",
      "/Users/cagladeniz/opt/anaconda3/lib/python3.9/site-packages/xgboost/sklearn.py:1395: UserWarning: `use_label_encoder` is deprecated in 1.7.0.\n",
      "  warnings.warn(\"`use_label_encoder` is deprecated in 1.7.0.\")\n",
      "/Users/cagladeniz/opt/anaconda3/lib/python3.9/site-packages/xgboost/sklearn.py:1395: UserWarning: `use_label_encoder` is deprecated in 1.7.0.\n",
      "  warnings.warn(\"`use_label_encoder` is deprecated in 1.7.0.\")\n",
      "/Users/cagladeniz/opt/anaconda3/lib/python3.9/site-packages/xgboost/sklearn.py:1395: UserWarning: `use_label_encoder` is deprecated in 1.7.0.\n",
      "  warnings.warn(\"`use_label_encoder` is deprecated in 1.7.0.\")\n",
      "/Users/cagladeniz/opt/anaconda3/lib/python3.9/site-packages/xgboost/sklearn.py:1395: UserWarning: `use_label_encoder` is deprecated in 1.7.0.\n",
      "  warnings.warn(\"`use_label_encoder` is deprecated in 1.7.0.\")\n",
      "/Users/cagladeniz/opt/anaconda3/lib/python3.9/site-packages/xgboost/sklearn.py:1395: UserWarning: `use_label_encoder` is deprecated in 1.7.0.\n",
      "  warnings.warn(\"`use_label_encoder` is deprecated in 1.7.0.\")\n",
      "/Users/cagladeniz/opt/anaconda3/lib/python3.9/site-packages/xgboost/sklearn.py:1395: UserWarning: `use_label_encoder` is deprecated in 1.7.0.\n",
      "  warnings.warn(\"`use_label_encoder` is deprecated in 1.7.0.\")\n",
      "/Users/cagladeniz/opt/anaconda3/lib/python3.9/site-packages/xgboost/sklearn.py:1395: UserWarning: `use_label_encoder` is deprecated in 1.7.0.\n",
      "  warnings.warn(\"`use_label_encoder` is deprecated in 1.7.0.\")\n"
     ]
    },
    {
     "name": "stdout",
     "output_type": "stream",
     "text": [
      "roc_auc score:0.8558080808080808\n"
     ]
    },
    {
     "name": "stderr",
     "output_type": "stream",
     "text": [
      "/Users/cagladeniz/opt/anaconda3/lib/python3.9/site-packages/xgboost/sklearn.py:1395: UserWarning: `use_label_encoder` is deprecated in 1.7.0.\n",
      "  warnings.warn(\"`use_label_encoder` is deprecated in 1.7.0.\")\n",
      "/Users/cagladeniz/opt/anaconda3/lib/python3.9/site-packages/xgboost/sklearn.py:1395: UserWarning: `use_label_encoder` is deprecated in 1.7.0.\n",
      "  warnings.warn(\"`use_label_encoder` is deprecated in 1.7.0.\")\n",
      "/Users/cagladeniz/opt/anaconda3/lib/python3.9/site-packages/xgboost/sklearn.py:1395: UserWarning: `use_label_encoder` is deprecated in 1.7.0.\n",
      "  warnings.warn(\"`use_label_encoder` is deprecated in 1.7.0.\")\n",
      "/Users/cagladeniz/opt/anaconda3/lib/python3.9/site-packages/xgboost/sklearn.py:1395: UserWarning: `use_label_encoder` is deprecated in 1.7.0.\n",
      "  warnings.warn(\"`use_label_encoder` is deprecated in 1.7.0.\")\n",
      "/Users/cagladeniz/opt/anaconda3/lib/python3.9/site-packages/xgboost/sklearn.py:1395: UserWarning: `use_label_encoder` is deprecated in 1.7.0.\n",
      "  warnings.warn(\"`use_label_encoder` is deprecated in 1.7.0.\")\n",
      "/Users/cagladeniz/opt/anaconda3/lib/python3.9/site-packages/xgboost/sklearn.py:1395: UserWarning: `use_label_encoder` is deprecated in 1.7.0.\n",
      "  warnings.warn(\"`use_label_encoder` is deprecated in 1.7.0.\")\n",
      "/Users/cagladeniz/opt/anaconda3/lib/python3.9/site-packages/xgboost/sklearn.py:1395: UserWarning: `use_label_encoder` is deprecated in 1.7.0.\n",
      "  warnings.warn(\"`use_label_encoder` is deprecated in 1.7.0.\")\n",
      "/Users/cagladeniz/opt/anaconda3/lib/python3.9/site-packages/xgboost/sklearn.py:1395: UserWarning: `use_label_encoder` is deprecated in 1.7.0.\n",
      "  warnings.warn(\"`use_label_encoder` is deprecated in 1.7.0.\")\n",
      "/Users/cagladeniz/opt/anaconda3/lib/python3.9/site-packages/xgboost/sklearn.py:1395: UserWarning: `use_label_encoder` is deprecated in 1.7.0.\n",
      "  warnings.warn(\"`use_label_encoder` is deprecated in 1.7.0.\")\n",
      "/Users/cagladeniz/opt/anaconda3/lib/python3.9/site-packages/xgboost/sklearn.py:1395: UserWarning: `use_label_encoder` is deprecated in 1.7.0.\n",
      "  warnings.warn(\"`use_label_encoder` is deprecated in 1.7.0.\")\n"
     ]
    },
    {
     "name": "stdout",
     "output_type": "stream",
     "text": [
      "f1 score:0.611030081030081\n"
     ]
    },
    {
     "name": "stderr",
     "output_type": "stream",
     "text": [
      "/Users/cagladeniz/opt/anaconda3/lib/python3.9/site-packages/xgboost/sklearn.py:1395: UserWarning: `use_label_encoder` is deprecated in 1.7.0.\n",
      "  warnings.warn(\"`use_label_encoder` is deprecated in 1.7.0.\")\n",
      "/Users/cagladeniz/opt/anaconda3/lib/python3.9/site-packages/xgboost/sklearn.py:1395: UserWarning: `use_label_encoder` is deprecated in 1.7.0.\n",
      "  warnings.warn(\"`use_label_encoder` is deprecated in 1.7.0.\")\n",
      "/Users/cagladeniz/opt/anaconda3/lib/python3.9/site-packages/xgboost/sklearn.py:1395: UserWarning: `use_label_encoder` is deprecated in 1.7.0.\n",
      "  warnings.warn(\"`use_label_encoder` is deprecated in 1.7.0.\")\n",
      "/Users/cagladeniz/opt/anaconda3/lib/python3.9/site-packages/xgboost/sklearn.py:1395: UserWarning: `use_label_encoder` is deprecated in 1.7.0.\n",
      "  warnings.warn(\"`use_label_encoder` is deprecated in 1.7.0.\")\n",
      "/Users/cagladeniz/opt/anaconda3/lib/python3.9/site-packages/xgboost/sklearn.py:1395: UserWarning: `use_label_encoder` is deprecated in 1.7.0.\n",
      "  warnings.warn(\"`use_label_encoder` is deprecated in 1.7.0.\")\n",
      "/Users/cagladeniz/opt/anaconda3/lib/python3.9/site-packages/xgboost/sklearn.py:1395: UserWarning: `use_label_encoder` is deprecated in 1.7.0.\n",
      "  warnings.warn(\"`use_label_encoder` is deprecated in 1.7.0.\")\n",
      "/Users/cagladeniz/opt/anaconda3/lib/python3.9/site-packages/xgboost/sklearn.py:1395: UserWarning: `use_label_encoder` is deprecated in 1.7.0.\n",
      "  warnings.warn(\"`use_label_encoder` is deprecated in 1.7.0.\")\n",
      "/Users/cagladeniz/opt/anaconda3/lib/python3.9/site-packages/xgboost/sklearn.py:1395: UserWarning: `use_label_encoder` is deprecated in 1.7.0.\n",
      "  warnings.warn(\"`use_label_encoder` is deprecated in 1.7.0.\")\n",
      "/Users/cagladeniz/opt/anaconda3/lib/python3.9/site-packages/xgboost/sklearn.py:1395: UserWarning: `use_label_encoder` is deprecated in 1.7.0.\n",
      "  warnings.warn(\"`use_label_encoder` is deprecated in 1.7.0.\")\n",
      "/Users/cagladeniz/opt/anaconda3/lib/python3.9/site-packages/xgboost/sklearn.py:1395: UserWarning: `use_label_encoder` is deprecated in 1.7.0.\n",
      "  warnings.warn(\"`use_label_encoder` is deprecated in 1.7.0.\")\n"
     ]
    },
    {
     "name": "stdout",
     "output_type": "stream",
     "text": [
      "precision score:0.7397619047619048\n"
     ]
    },
    {
     "name": "stderr",
     "output_type": "stream",
     "text": [
      "/Users/cagladeniz/opt/anaconda3/lib/python3.9/site-packages/xgboost/sklearn.py:1395: UserWarning: `use_label_encoder` is deprecated in 1.7.0.\n",
      "  warnings.warn(\"`use_label_encoder` is deprecated in 1.7.0.\")\n",
      "/Users/cagladeniz/opt/anaconda3/lib/python3.9/site-packages/xgboost/sklearn.py:1395: UserWarning: `use_label_encoder` is deprecated in 1.7.0.\n",
      "  warnings.warn(\"`use_label_encoder` is deprecated in 1.7.0.\")\n",
      "/Users/cagladeniz/opt/anaconda3/lib/python3.9/site-packages/xgboost/sklearn.py:1395: UserWarning: `use_label_encoder` is deprecated in 1.7.0.\n",
      "  warnings.warn(\"`use_label_encoder` is deprecated in 1.7.0.\")\n",
      "/Users/cagladeniz/opt/anaconda3/lib/python3.9/site-packages/xgboost/sklearn.py:1395: UserWarning: `use_label_encoder` is deprecated in 1.7.0.\n",
      "  warnings.warn(\"`use_label_encoder` is deprecated in 1.7.0.\")\n",
      "/Users/cagladeniz/opt/anaconda3/lib/python3.9/site-packages/xgboost/sklearn.py:1395: UserWarning: `use_label_encoder` is deprecated in 1.7.0.\n",
      "  warnings.warn(\"`use_label_encoder` is deprecated in 1.7.0.\")\n",
      "/Users/cagladeniz/opt/anaconda3/lib/python3.9/site-packages/xgboost/sklearn.py:1395: UserWarning: `use_label_encoder` is deprecated in 1.7.0.\n",
      "  warnings.warn(\"`use_label_encoder` is deprecated in 1.7.0.\")\n",
      "/Users/cagladeniz/opt/anaconda3/lib/python3.9/site-packages/xgboost/sklearn.py:1395: UserWarning: `use_label_encoder` is deprecated in 1.7.0.\n",
      "  warnings.warn(\"`use_label_encoder` is deprecated in 1.7.0.\")\n",
      "/Users/cagladeniz/opt/anaconda3/lib/python3.9/site-packages/xgboost/sklearn.py:1395: UserWarning: `use_label_encoder` is deprecated in 1.7.0.\n",
      "  warnings.warn(\"`use_label_encoder` is deprecated in 1.7.0.\")\n",
      "/Users/cagladeniz/opt/anaconda3/lib/python3.9/site-packages/xgboost/sklearn.py:1395: UserWarning: `use_label_encoder` is deprecated in 1.7.0.\n",
      "  warnings.warn(\"`use_label_encoder` is deprecated in 1.7.0.\")\n",
      "/Users/cagladeniz/opt/anaconda3/lib/python3.9/site-packages/xgboost/sklearn.py:1395: UserWarning: `use_label_encoder` is deprecated in 1.7.0.\n",
      "  warnings.warn(\"`use_label_encoder` is deprecated in 1.7.0.\")\n"
     ]
    },
    {
     "name": "stdout",
     "output_type": "stream",
     "text": [
      "recall score:0.5766666666666665\n"
     ]
    },
    {
     "name": "stderr",
     "output_type": "stream",
     "text": [
      "/Users/cagladeniz/opt/anaconda3/lib/python3.9/site-packages/xgboost/sklearn.py:1395: UserWarning: `use_label_encoder` is deprecated in 1.7.0.\n",
      "  warnings.warn(\"`use_label_encoder` is deprecated in 1.7.0.\")\n",
      "/Users/cagladeniz/opt/anaconda3/lib/python3.9/site-packages/xgboost/sklearn.py:1395: UserWarning: `use_label_encoder` is deprecated in 1.7.0.\n",
      "  warnings.warn(\"`use_label_encoder` is deprecated in 1.7.0.\")\n",
      "/Users/cagladeniz/opt/anaconda3/lib/python3.9/site-packages/xgboost/sklearn.py:1395: UserWarning: `use_label_encoder` is deprecated in 1.7.0.\n",
      "  warnings.warn(\"`use_label_encoder` is deprecated in 1.7.0.\")\n",
      "/Users/cagladeniz/opt/anaconda3/lib/python3.9/site-packages/xgboost/sklearn.py:1395: UserWarning: `use_label_encoder` is deprecated in 1.7.0.\n",
      "  warnings.warn(\"`use_label_encoder` is deprecated in 1.7.0.\")\n",
      "/Users/cagladeniz/opt/anaconda3/lib/python3.9/site-packages/xgboost/sklearn.py:1395: UserWarning: `use_label_encoder` is deprecated in 1.7.0.\n",
      "  warnings.warn(\"`use_label_encoder` is deprecated in 1.7.0.\")\n",
      "/Users/cagladeniz/opt/anaconda3/lib/python3.9/site-packages/xgboost/sklearn.py:1395: UserWarning: `use_label_encoder` is deprecated in 1.7.0.\n",
      "  warnings.warn(\"`use_label_encoder` is deprecated in 1.7.0.\")\n",
      "/Users/cagladeniz/opt/anaconda3/lib/python3.9/site-packages/xgboost/sklearn.py:1395: UserWarning: `use_label_encoder` is deprecated in 1.7.0.\n",
      "  warnings.warn(\"`use_label_encoder` is deprecated in 1.7.0.\")\n",
      "/Users/cagladeniz/opt/anaconda3/lib/python3.9/site-packages/xgboost/sklearn.py:1395: UserWarning: `use_label_encoder` is deprecated in 1.7.0.\n",
      "  warnings.warn(\"`use_label_encoder` is deprecated in 1.7.0.\")\n",
      "/Users/cagladeniz/opt/anaconda3/lib/python3.9/site-packages/xgboost/sklearn.py:1395: UserWarning: `use_label_encoder` is deprecated in 1.7.0.\n",
      "  warnings.warn(\"`use_label_encoder` is deprecated in 1.7.0.\")\n",
      "/Users/cagladeniz/opt/anaconda3/lib/python3.9/site-packages/xgboost/sklearn.py:1395: UserWarning: `use_label_encoder` is deprecated in 1.7.0.\n",
      "  warnings.warn(\"`use_label_encoder` is deprecated in 1.7.0.\")\n"
     ]
    },
    {
     "name": "stdout",
     "output_type": "stream",
     "text": [
      "accuracy score:0.8563492063492063\n",
      "CatBoost\n",
      "roc_auc score:0.9040981240981241\n",
      "f1 score:0.5937662337662338\n",
      "precision score:0.93\n",
      "recall score:0.47000000000000003\n",
      "accuracy score:0.8817460317460318\n",
      "LightGBM\n",
      "roc_auc score:0.8982034632034631\n",
      "f1 score:0.6632539682539682\n",
      "precision score:0.8071428571428572\n",
      "recall score:0.5933333333333333\n",
      "accuracy score:0.8817460317460318\n"
     ]
    }
   ],
   "source": [
    "models = [('LR', LogisticRegression()),\n",
    "                   ('KNN', KNeighborsClassifier()),\n",
    "                   (\"SVC\", SVC()),\n",
    "                   (\"CART\", DecisionTreeClassifier()),\n",
    "                   (\"RF\", RandomForestClassifier()),\n",
    "                   ('Adaboost', AdaBoostClassifier()),\n",
    "                   ('GBM', GradientBoostingClassifier()),\n",
    "                   ('XGBoost', XGBClassifier(use_label_encoder=False, eval_metric='logloss')),\n",
    "                   ('CatBoost', CatBoostClassifier(verbose=False)),\n",
    "              (\"LightGBM\", LGBMClassifier())]\n",
    "\n",
    "\n",
    "\n",
    "for name, model in models:\n",
    "    print(name)\n",
    "    for score in [\"roc_auc\", \"f1\", \"precision\", \"recall\", \"accuracy\"]:\n",
    "        cvs = cross_val_score(model, X, y, scoring=score, cv=10).mean()\n",
    "        print(score+\" score:\"+str(cvs))\n"
   ]
  },
  {
   "cell_type": "markdown",
   "id": "054ee13f",
   "metadata": {},
   "source": [
    "### Feature Engineering"
   ]
  },
  {
   "cell_type": "code",
   "execution_count": 26,
   "id": "d21e794d",
   "metadata": {},
   "outputs": [],
   "source": [
    "def plot_importance(model, features, num=len(X), save=False):\n",
    "\n",
    "    feature_imp = pd.DataFrame({\"Value\": model.feature_importances_, \"Feature\": features.columns})\n",
    "    plt.figure(figsize=(10, 10))\n",
    "    sns.set(font_scale=1)\n",
    "    sns.barplot(x=\"Value\", y=\"Feature\", data=feature_imp.sort_values(by=\"Value\", ascending=False)[0:num])\n",
    "    plt.title(\"Features\")\n",
    "    plt.tight_layout()\n",
    "    plt.show()\n",
    "    if save:\n",
    "        plt.savefig(\"importances.png\")"
   ]
  },
  {
   "cell_type": "code",
   "execution_count": 27,
   "id": "75d9df2a",
   "metadata": {},
   "outputs": [],
   "source": [
    "model = LGBMClassifier()\n"
   ]
  },
  {
   "cell_type": "code",
   "execution_count": 28,
   "id": "27cf99d1",
   "metadata": {},
   "outputs": [
    {
     "data": {
      "text/plain": [
       "LGBMClassifier()"
      ]
     },
     "execution_count": 28,
     "metadata": {},
     "output_type": "execute_result"
    }
   ],
   "source": [
    "model.fit(X, y)\n"
   ]
  },
  {
   "cell_type": "code",
   "execution_count": 29,
   "id": "5f04e033",
   "metadata": {},
   "outputs": [
    {
     "data": {
      "image/png": "[encoded data removed]",
      "text/plain": [
       "<Figure size 720x720 with 1 Axes>"
      ]
     },
     "metadata": {
      "needs_background": "light"
     },
     "output_type": "display_data"
    }
   ],
   "source": [
    "plot_importance(model, X)\n"
   ]
  }
 ],
 "metadata": {
  "kernelspec": {
   "display_name": "Python 3 (ipykernel)",
   "language": "python",
   "name": "python3"
  },
  "language_info": {
   "codemirror_mode": {
    "name": "ipython",
    "version": 3
   },
   "file_extension": ".py",
   "mimetype": "text/x-python",
   "name": "python",
   "nbconvert_exporter": "python",
   "pygments_lexer": "ipython3",
   "version": "3.9.7"
  }
 },
 "nbformat": 4,
 "nbformat_minor": 5
}
